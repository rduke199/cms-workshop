{
 "cells": [
  {
   "cell_type": "markdown",
   "metadata": {},
   "source": [
    "## My way"
   ]
  },
  {
   "cell_type": "code",
   "execution_count": 1,
   "metadata": {},
   "outputs": [],
   "source": [
    "import os\n",
    "import numpy as np"
   ]
  },
  {
   "cell_type": "code",
   "execution_count": 2,
   "metadata": {},
   "outputs": [],
   "source": [
    "master_file=os.path.join('data', 'water.xyz')"
   ]
  },
  {
   "cell_type": "code",
   "execution_count": 3,
   "metadata": {},
   "outputs": [
    {
     "name": "stdout",
     "output_type": "stream",
     "text": [
      "[['O' '0.000000' '-0.007156' '0.965491']\n",
      " ['H1' '-0.000000' '0.001486' '-0.003471']\n",
      " ['H2' '0.000000' '0.931026' '1.207929']]\n"
     ]
    }
   ],
   "source": [
    "file = np.genfromtxt(fname=master_file, dtype='unicode',skip_header=2 )\n",
    "print(file)"
   ]
  },
  {
   "cell_type": "code",
   "execution_count": 4,
   "metadata": {
    "scrolled": false
   },
   "outputs": [
    {
     "name": "stdout",
     "output_type": "stream",
     "text": [
      "['O' 'H1' 'H2']\n"
     ]
    }
   ],
   "source": [
    "header=file[:,0]\n",
    "print(header)"
   ]
  },
  {
   "cell_type": "code",
   "execution_count": 5,
   "metadata": {},
   "outputs": [
    {
     "name": "stdout",
     "output_type": "stream",
     "text": [
      "[['0.000000' '-0.007156' '0.965491']\n",
      " ['-0.000000' '0.001486' '-0.003471']\n",
      " ['0.000000' '0.931026' '1.207929']]\n"
     ]
    }
   ],
   "source": [
    "data=file[:,1:]\n",
    "print(data)"
   ]
  },
  {
   "cell_type": "code",
   "execution_count": 6,
   "metadata": {},
   "outputs": [],
   "source": [
    "data=data.astype(np.float)"
   ]
  },
  {
   "cell_type": "code",
   "execution_count": 7,
   "metadata": {},
   "outputs": [
    {
     "name": "stdout",
     "output_type": "stream",
     "text": [
      "3\n"
     ]
    }
   ],
   "source": [
    "num_atoms=len(header)\n",
    "print(num_atoms)"
   ]
  },
  {
   "cell_type": "code",
   "execution_count": 8,
   "metadata": {},
   "outputs": [],
   "source": [
    "datafile=open('water_xyz_analysis','w+')\n",
    "for i in range(0,3):\n",
    "    for j in range(0,3):\n",
    "        if i<j:\n",
    "            x=(data[i,0]-data[j,0])\n",
    "            y=(data[i,1]-data[j,1])\n",
    "            z=(data[i,2]-data[j,2])\n",
    "            dist=np.sqrt(x**2+y**2+z**2)\n",
    "            if 0<dist<1.5:\n",
    "                datafile.write(F'{header[i]}-{header[j]}:\\t {dist:.3f}\\n')\n",
    "datafile.close()"
   ]
  },
  {
   "cell_type": "markdown",
   "metadata": {},
   "source": [
    "## Another way to do this..."
   ]
  },
  {
   "cell_type": "code",
   "execution_count": 9,
   "metadata": {},
   "outputs": [
    {
     "name": "stdout",
     "output_type": "stream",
     "text": [
      "H1 to O: 0.969\n",
      "H2 to O: 0.969\n"
     ]
    }
   ],
   "source": [
    "for numA, atomA in enumerate(data):\n",
    "    for numB, atomB in enumerate(data):\n",
    "        #take out repeats (O to H1 after you've already done H1 to O) with this if statement\n",
    "        if numB<numA:\n",
    "            x_dist=atomA[0]-atomB[0]\n",
    "            y_dist=atomA[1]-atomB[1]\n",
    "            z_dist=atomA[2]-atomB[2]\n",
    "            dist=np.sqrt(x_dist**2+y_dist**2+z_dist**2)\n",
    "            #take out distances that are not bonds (aka more than 0 and less than 1.5)\n",
    "            if 0<dist<1.5:\n",
    "                print(F'{header[numA]} to {header[numB]}: {dist:.3f}')"
   ]
  },
  {
   "cell_type": "markdown",
   "metadata": {},
   "source": [
    "## Writing Functions"
   ]
  },
  {
   "cell_type": "code",
   "execution_count": 10,
   "metadata": {},
   "outputs": [],
   "source": [
    "def funciotn_name(parameters):\n",
    "    #lines of code\n",
    "    #lines of code\n",
    "    #lines of code\n",
    "    return value_to_return"
   ]
  },
  {
   "cell_type": "code",
   "execution_count": 15,
   "metadata": {},
   "outputs": [],
   "source": [
    "def calc_distance(atomA, atomB):\n",
    "    x_dist=atomA[0]-atomB[0]\n",
    "    y_dist=atomA[1]-atomB[1]\n",
    "    z_dist=atomA[2]-atomB[2]\n",
    "    dist=np.sqrt(x_dist**2+y_dist**2+z_dist**2)\n",
    "    return dist"
   ]
  },
  {
   "cell_type": "code",
   "execution_count": 30,
   "metadata": {},
   "outputs": [],
   "source": [
    "#the equals in the parameters give the default values\n",
    "def bond_check(bond_dist, min=0, max=1.5):\n",
    "    if min<bond_dist<max: \n",
    "        return True\n",
    "    else:\n",
    "        return False"
   ]
  },
  {
   "cell_type": "code",
   "execution_count": 34,
   "metadata": {},
   "outputs": [
    {
     "name": "stdout",
     "output_type": "stream",
     "text": [
      "H1 to O: 0.969\n",
      "H2 to O: 0.969\n",
      "H2 to H1: 1.527\n"
     ]
    }
   ],
   "source": [
    "for numA, atomA in enumerate(data):\n",
    "    for numB, atomB in enumerate(data):\n",
    "        if numB<numA:\n",
    "            dist_AB=calc_distance(atomA,atomB)\n",
    "            #you can play with the parameters\n",
    "            if bond_check(dist_AB,max=1.6):\n",
    "                print(F'{header[numA]} to {header[numB]}: {dist_AB:.3f}')"
   ]
  },
  {
   "cell_type": "code",
   "execution_count": null,
   "metadata": {},
   "outputs": [],
   "source": []
  }
 ],
 "metadata": {
  "kernelspec": {
   "display_name": "Python 3",
   "language": "python",
   "name": "python3"
  },
  "language_info": {
   "codemirror_mode": {
    "name": "ipython",
    "version": 3
   },
   "file_extension": ".py",
   "mimetype": "text/x-python",
   "name": "python",
   "nbconvert_exporter": "python",
   "pygments_lexer": "ipython3",
   "version": "3.7.3"
  }
 },
 "nbformat": 4,
 "nbformat_minor": 2
}
